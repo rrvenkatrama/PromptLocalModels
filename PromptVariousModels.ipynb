{
  "cells": [
    {
      "cell_type": "code",
      "execution_count": 34,
      "id": "43bfb93e-d854-48da-a7f0-84cb85abfbe7",
      "metadata": {
        "id": "43bfb93e-d854-48da-a7f0-84cb85abfbe7",
        "colab": {
          "base_uri": "https://localhost:8080/"
        },
        "outputId": "68f156e7-18cf-4d51-ad1a-43f1ef312473"
      },
      "outputs": [
        {
          "output_type": "stream",
          "name": "stdout",
          "text": [
            "Requirement already satisfied: pandas in /opt/anaconda3/envs/jupyter_env/lib/python3.11/site-packages (2.2.3)\r\n",
            "Requirement already satisfied: numpy>=1.23.2 in /opt/anaconda3/envs/jupyter_env/lib/python3.11/site-packages (from pandas) (2.2.4)\r\n",
            "Requirement already satisfied: python-dateutil>=2.8.2 in /opt/anaconda3/envs/jupyter_env/lib/python3.11/site-packages (from pandas) (2.9.0.post0)\r\n",
            "Requirement already satisfied: pytz>=2020.1 in /opt/anaconda3/envs/jupyter_env/lib/python3.11/site-packages (from pandas) (2025.2)\r\n",
            "Requirement already satisfied: tzdata>=2022.7 in /opt/anaconda3/envs/jupyter_env/lib/python3.11/site-packages (from pandas) (2025.2)\r\n",
            "Requirement already satisfied: six>=1.5 in /opt/anaconda3/envs/jupyter_env/lib/python3.11/site-packages (from python-dateutil>=2.8.2->pandas) (1.17.0)\n",
            "Requirement already satisfied: numpy in /opt/anaconda3/envs/jupyter_env/lib/python3.11/site-packages (2.2.4)\n",
            "Requirement already satisfied: ollama in /opt/anaconda3/envs/jupyter_env/lib/python3.11/site-packages (0.4.7)\n",
            "Requirement already satisfied: httpx<0.29,>=0.27 in /opt/anaconda3/envs/jupyter_env/lib/python3.11/site-packages (from ollama) (0.28.1)\n",
            "Requirement already satisfied: pydantic<3.0.0,>=2.9.0 in /opt/anaconda3/envs/jupyter_env/lib/python3.11/site-packages (from ollama) (2.11.1)\n",
            "Requirement already satisfied: anyio in /opt/anaconda3/envs/jupyter_env/lib/python3.11/site-packages (from httpx<0.29,>=0.27->ollama) (4.9.0)\n",
            "Requirement already satisfied: certifi in /opt/anaconda3/envs/jupyter_env/lib/python3.11/site-packages (from httpx<0.29,>=0.27->ollama) (2025.1.31)\n",
            "Requirement already satisfied: httpcore==1.* in /opt/anaconda3/envs/jupyter_env/lib/python3.11/site-packages (from httpx<0.29,>=0.27->ollama) (1.0.7)\n",
            "Requirement already satisfied: idna in /opt/anaconda3/envs/jupyter_env/lib/python3.11/site-packages (from httpx<0.29,>=0.27->ollama) (3.10)\n",
            "Requirement already satisfied: h11<0.15,>=0.13 in /opt/anaconda3/envs/jupyter_env/lib/python3.11/site-packages (from httpcore==1.*->httpx<0.29,>=0.27->ollama) (0.14.0)\n",
            "Requirement already satisfied: annotated-types>=0.6.0 in /opt/anaconda3/envs/jupyter_env/lib/python3.11/site-packages (from pydantic<3.0.0,>=2.9.0->ollama) (0.7.0)\n",
            "Requirement already satisfied: pydantic-core==2.33.0 in /opt/anaconda3/envs/jupyter_env/lib/python3.11/site-packages (from pydantic<3.0.0,>=2.9.0->ollama) (2.33.0)\n",
            "Requirement already satisfied: typing-extensions>=4.12.2 in /opt/anaconda3/envs/jupyter_env/lib/python3.11/site-packages (from pydantic<3.0.0,>=2.9.0->ollama) (4.13.0)\n",
            "Requirement already satisfied: typing-inspection>=0.4.0 in /opt/anaconda3/envs/jupyter_env/lib/python3.11/site-packages (from pydantic<3.0.0,>=2.9.0->ollama) (0.4.0)\n",
            "Requirement already satisfied: sniffio>=1.1 in /opt/anaconda3/envs/jupyter_env/lib/python3.11/site-packages (from anyio->httpx<0.29,>=0.27->ollama) (1.3.1)\n",
            "Requirement already satisfied: openpyxl in /opt/anaconda3/envs/jupyter_env/lib/python3.11/site-packages (3.1.5)\n",
            "Requirement already satisfied: et-xmlfile in /opt/anaconda3/envs/jupyter_env/lib/python3.11/site-packages (from openpyxl) (2.0.0)\n"
          ]
        }
      ],
      "source": [
        "%config Completer.use_jedi = True\n",
        "!pip install pandas\n",
        "!pip install numpy\n",
        "!pip install ollama\n",
        "!pip install openpyxl"
      ]
    },
    {
      "cell_type": "code",
      "execution_count": 35,
      "id": "74f6f230-8e06-4261-a19b-2bfb08ef84e3",
      "metadata": {
        "id": "74f6f230-8e06-4261-a19b-2bfb08ef84e3"
      },
      "outputs": [],
      "source": [
        "import pandas as pd\n",
        "import numpy as np\n",
        "import ollama\n",
        "\n",
        "\n",
        "#Read a Local spreadsheet using pandas which has one sheet and one column labelled \"Prompts\"\n",
        "#Load the spreadsheet into a dataframe\n",
        "#First column titled \"Prompts\" is the list of questions\n",
        "#send each question to each model using ollama generate and note the responses in the data frame under columns \"DeepSeek R1\", \"Illama\", \"Mistral\"\n",
        "#Store the responses in the same spreadsheet using Pandas Excel methods in a new sheet."
      ]
    },
    {
      "cell_type": "code",
      "source": [],
      "metadata": {
        "id": "XcpFKE4rbTXh"
      },
      "id": "XcpFKE4rbTXh",
      "execution_count": 35,
      "outputs": []
    },
    {
      "cell_type": "code",
      "execution_count": 36,
      "id": "68974676-b2a7-4b2a-9c57-74d687d8fc62",
      "metadata": {
        "id": "68974676-b2a7-4b2a-9c57-74d687d8fc62",
        "colab": {
          "base_uri": "https://localhost:8080/"
        },
        "outputId": "5329f925-de5b-431e-d14d-9767b2edc28f"
      },
      "outputs": [
        {
          "output_type": "stream",
          "name": "stdout",
          "text": [
            "['What is AI ? ', 'How big a model are you ?', 'Where is Greenland ?', 'What is the size of India in terms of area ?', 'How many states are in America ?', 'Whatis Hydroponics ?', 'What are different ways to access locally downloaded LLM models ?']\n",
            "Loaded spreadsheet successfully\n"
          ]
        }
      ],
      "source": [
        "# prompt: Read a Local spreadsheet using pandas which has one sheet and one column labelled \"Prompts\"\n",
        "\n",
        "# Load the spreadsheet into a dataframe\n",
        "try:\n",
        "  # Replace \"your_spreadsheet.xlsx\" with your file name and \"Sheet1\" with your sheet name\n",
        "\n",
        "  df = pd.read_excel(\"/users/rajeshramani/ai/my_prompts.xlsx\", sheet_name=\"Prompts\")\n",
        "\n",
        "  # Get the values in the first column with the name \"My Prompts\" that has the list of questions or prompts.\n",
        "\n",
        "  prompts = df[\"My Prompts\"].tolist()\n",
        "  print(prompts)\n",
        "\n",
        "except FileNotFoundError:\n",
        "  print(\"Error: Spreedsheet not found.\")\n",
        "  # You might want to handle this error more gracefully, e.g., by exiting the script or prompting the user for a valid file path\n",
        "except KeyError:\n",
        "    print(\"Error: Column 'My Prompts' not found in the spreadsheet. Please check the column name.\")\n",
        "except Exception as e:\n",
        "  print(f\"An unexpected error occurred: {e}\")\n",
        "else:\n",
        "  print(\"Loaded spreadsheet successfully\")\n",
        "\n"
      ]
    },
    {
      "cell_type": "code",
      "source": [
        "\n",
        "  # Now we have the prompts, Get responses from Deepseek\n",
        "\n",
        "  responses_deepseek = []\n",
        "  for pr in prompts:\n",
        "     res = ollama.generate(model=\"deepseek-r1\", prompt=pr)\n",
        "     responses_deepseek.append(res.response)\n",
        "\n",
        "  # Now, add the responses as new columns in your dataframe\n",
        "\n",
        "  df[\"DeepSeek R1 Responses\"] = responses_deepseek\n",
        "\n",
        "\n",
        "  responses_mistral = []\n",
        "  for pr in prompts:\n",
        "     res = ollama.generate(model=\"mistral\", prompt=pr)\n",
        "     responses_mistral.append(res.response)\n",
        "\n",
        "  # Now, add the responses as new columns in your dataframe\n",
        "\n",
        "  df[\"Mistral Responses\"] = responses_mistral\n",
        "\n",
        "\n",
        "\n",
        "  responses_ollama = []\n",
        "  for pr in prompts:\n",
        "     res = ollama.generate(model=\"llama3\", prompt=pr)\n",
        "     responses_ollama.append(res.response)\n",
        "\n",
        "  # Now, add the responses as new columns in your dataframe\n",
        "\n",
        "  df[\"Llama3 Responses\"] = responses_ollama\n",
        "\n",
        "\n",
        "\n",
        "  # Overwrites the original file. Consider appending instead\n",
        "  # print(\"Responses added to the spreadsheet.\")"
      ],
      "metadata": {
        "id": "UL8NomvZvR8S"
      },
      "id": "UL8NomvZvR8S",
      "execution_count": 37,
      "outputs": []
    },
    {
      "cell_type": "code",
      "source": [
        "# prompt: # Finally, store the responses back to the spreadsheet appending the dataframe to a new sheet\n",
        "\n",
        "#set word wrap in the new sheet and set column width\n",
        "\n",
        "\n",
        "with pd.ExcelWriter(\"/users/rajeshramani/ai/my_prompts.xlsx\", mode=\"a\", engine=\"openpyxl\", if_sheet_exists=\"replace\") as writer:\n",
        "    df.to_excel(writer, sheet_name=\"Model Responses\", index=False)\n",
        "\n",
        "print(\"Responses added to the spreadsheet.\")\n"
      ],
      "metadata": {
        "colab": {
          "base_uri": "https://localhost:8080/"
        },
        "id": "ceSxpllHpCyp",
        "outputId": "3641ef17-a7b1-49f1-f702-75e1ef443f56"
      },
      "id": "ceSxpllHpCyp",
      "execution_count": 38,
      "outputs": [
        {
          "output_type": "stream",
          "name": "stdout",
          "text": [
            "Responses added to the spreadsheet.\n"
          ]
        }
      ]
    },
    {
      "cell_type": "code",
      "source": [
        "# prompt: set word wrap in the new sheet and set column width\n",
        "\n",
        "from openpyxl import load_workbook\n",
        "from openpyxl.styles import Alignment\n",
        "from openpyxl.styles import Font\n",
        "\n",
        "# Load the workbook\n",
        "workbook = load_workbook(filename=\"/users/rajeshramani/ai/my_prompts.xlsx\")\n",
        "\n",
        "# Select the worksheet\n",
        "worksheet = workbook[\"Model Responses\"]\n",
        "\n",
        "# Set word wrap for all cells in the worksheet\n",
        "for row in worksheet.iter_rows():\n",
        "        for cell in row:\n",
        "            cell.alignment = Alignment(wrap_text=True, horizontal='left', vertical='top')\n",
        "            cell.font = Font(name='Arial', size=14)\n",
        "\n",
        "\n",
        "# Set column width (adjust the width as needed)\n",
        "worksheet.column_dimensions['A'].width = 30 # Example: Set width of column A\n",
        "worksheet.column_dimensions['B'].width = 100 # Example: Set width of column B\n",
        "worksheet.column_dimensions['C'].width = 100\n",
        "worksheet.column_dimensions['D'].width = 100\n",
        "\n",
        "\n",
        "# Save the changes\n",
        "workbook.save(\"/users/rajeshramani/ai/my_prompts.xlsx\")\n"
      ],
      "metadata": {
        "id": "KdO6xr-dwr7i"
      },
      "id": "KdO6xr-dwr7i",
      "execution_count": 39,
      "outputs": []
    },
    {
      "cell_type": "code",
      "source": [
        "\n"
      ],
      "metadata": {
        "id": "3u_KWmuExv6H"
      },
      "id": "3u_KWmuExv6H",
      "execution_count": 39,
      "outputs": []
    }
  ],
  "metadata": {
    "kernelspec": {
      "display_name": "Python 3 (ipykernel)",
      "language": "python",
      "name": "python3"
    },
    "language_info": {
      "codemirror_mode": {
        "name": "ipython",
        "version": 3
      },
      "file_extension": ".py",
      "mimetype": "text/x-python",
      "name": "python",
      "nbconvert_exporter": "python",
      "pygments_lexer": "ipython3",
      "version": "3.11.11"
    },
    "colab": {
      "provenance": []
    }
  },
  "nbformat": 4,
  "nbformat_minor": 5
}